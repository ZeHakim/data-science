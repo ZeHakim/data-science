{
 "cells": [
  {
   "cell_type": "markdown",
   "metadata": {},
   "source": [
    "## Analyse de données de kipler"
   ]
  },
  {
   "cell_type": "markdown",
   "metadata": {},
   "source": [
    "## Objectif\n",
    "\n",
    "L'objectif de la suite du notebook sera :\n",
    "\n",
    "1- Dans un premier temps de faire l'analyse et traitments des données (NAN, valeurs abérantes ..).\n",
    "\n",
    "2- Dans un second temps de prédire si un koi EST une exoplanéte ou NON, pour ce faire on fixe 'koi_disposition'comme label."
   ]
  },
  {
   "cell_type": "markdown",
   "metadata": {},
   "source": [
    "Columns explication :\n",
    "https://exoplanetarchive.ipac.caltech.edu/docs/API_kepcandidate_columns.html"
   ]
  },
  {
   "cell_type": "code",
   "execution_count": 1,
   "metadata": {},
   "outputs": [],
   "source": [
    "# load some default Python modules\n",
    "import warnings\n",
    "warnings.filterwarnings('ignore')\n",
    "\n",
    "import numpy as np\n",
    "import pandas as pd\n",
    "import matplotlib.pyplot as plt\n",
    "import seaborn as sns\n",
    "%matplotlib inline\n",
    "plt.style.use('seaborn-whitegrid')"
   ]
  },
  {
   "cell_type": "code",
   "execution_count": 2,
   "metadata": {},
   "outputs": [
    {
     "data": {
      "text/plain": [
       "(9564, 50)"
      ]
     },
     "execution_count": 2,
     "metadata": {},
     "output_type": "execute_result"
    }
   ],
   "source": [
    "df_train =  pd.read_csv(\"cumulative.csv\", index_col=0).reset_index()\n",
    "df_train.shape"
   ]
  },
  {
   "cell_type": "code",
   "execution_count": 3,
   "metadata": {},
   "outputs": [
    {
     "data": {
      "text/html": [
       "<div>\n",
       "<style scoped>\n",
       "    .dataframe tbody tr th:only-of-type {\n",
       "        vertical-align: middle;\n",
       "    }\n",
       "\n",
       "    .dataframe tbody tr th {\n",
       "        vertical-align: top;\n",
       "    }\n",
       "\n",
       "    .dataframe thead th {\n",
       "        text-align: right;\n",
       "    }\n",
       "</style>\n",
       "<table border=\"1\" class=\"dataframe\">\n",
       "  <thead>\n",
       "    <tr style=\"text-align: right;\">\n",
       "      <th></th>\n",
       "      <th>rowid</th>\n",
       "      <th>kepid</th>\n",
       "      <th>koi_score</th>\n",
       "      <th>koi_fpflag_nt</th>\n",
       "      <th>koi_fpflag_ss</th>\n",
       "      <th>koi_fpflag_co</th>\n",
       "      <th>koi_fpflag_ec</th>\n",
       "      <th>koi_period</th>\n",
       "      <th>koi_period_err1</th>\n",
       "      <th>koi_period_err2</th>\n",
       "      <th>...</th>\n",
       "      <th>koi_steff_err2</th>\n",
       "      <th>koi_slogg</th>\n",
       "      <th>koi_slogg_err1</th>\n",
       "      <th>koi_slogg_err2</th>\n",
       "      <th>koi_srad</th>\n",
       "      <th>koi_srad_err1</th>\n",
       "      <th>koi_srad_err2</th>\n",
       "      <th>ra</th>\n",
       "      <th>dec</th>\n",
       "      <th>koi_kepmag</th>\n",
       "    </tr>\n",
       "  </thead>\n",
       "  <tbody>\n",
       "    <tr>\n",
       "      <th>count</th>\n",
       "      <td>9564.000000</td>\n",
       "      <td>9.564000e+03</td>\n",
       "      <td>8054.000000</td>\n",
       "      <td>9564.000000</td>\n",
       "      <td>9564.000000</td>\n",
       "      <td>9564.000000</td>\n",
       "      <td>9564.000000</td>\n",
       "      <td>9564.000000</td>\n",
       "      <td>9110.000000</td>\n",
       "      <td>9110.000000</td>\n",
       "      <td>...</td>\n",
       "      <td>9081.000000</td>\n",
       "      <td>9201.000000</td>\n",
       "      <td>9096.000000</td>\n",
       "      <td>9096.000000</td>\n",
       "      <td>9201.000000</td>\n",
       "      <td>9096.000000</td>\n",
       "      <td>9096.000000</td>\n",
       "      <td>9564.000000</td>\n",
       "      <td>9564.000000</td>\n",
       "      <td>9563.000000</td>\n",
       "    </tr>\n",
       "    <tr>\n",
       "      <th>mean</th>\n",
       "      <td>4782.500000</td>\n",
       "      <td>7.690628e+06</td>\n",
       "      <td>0.480829</td>\n",
       "      <td>0.188206</td>\n",
       "      <td>0.231598</td>\n",
       "      <td>0.194898</td>\n",
       "      <td>0.120033</td>\n",
       "      <td>75.671358</td>\n",
       "      <td>0.002148</td>\n",
       "      <td>-0.002148</td>\n",
       "      <td>...</td>\n",
       "      <td>-162.265059</td>\n",
       "      <td>4.310157</td>\n",
       "      <td>0.120738</td>\n",
       "      <td>-0.143161</td>\n",
       "      <td>1.728712</td>\n",
       "      <td>0.362292</td>\n",
       "      <td>-0.394806</td>\n",
       "      <td>292.060163</td>\n",
       "      <td>43.810433</td>\n",
       "      <td>14.264606</td>\n",
       "    </tr>\n",
       "    <tr>\n",
       "      <th>std</th>\n",
       "      <td>2761.033321</td>\n",
       "      <td>2.653459e+06</td>\n",
       "      <td>0.476928</td>\n",
       "      <td>0.390897</td>\n",
       "      <td>0.421875</td>\n",
       "      <td>0.396143</td>\n",
       "      <td>0.325018</td>\n",
       "      <td>1334.744046</td>\n",
       "      <td>0.008236</td>\n",
       "      <td>0.008236</td>\n",
       "      <td>...</td>\n",
       "      <td>72.746348</td>\n",
       "      <td>0.432606</td>\n",
       "      <td>0.132837</td>\n",
       "      <td>0.085477</td>\n",
       "      <td>6.127185</td>\n",
       "      <td>0.930870</td>\n",
       "      <td>2.168213</td>\n",
       "      <td>4.766657</td>\n",
       "      <td>3.601243</td>\n",
       "      <td>1.385448</td>\n",
       "    </tr>\n",
       "    <tr>\n",
       "      <th>min</th>\n",
       "      <td>1.000000</td>\n",
       "      <td>7.574500e+05</td>\n",
       "      <td>0.000000</td>\n",
       "      <td>0.000000</td>\n",
       "      <td>0.000000</td>\n",
       "      <td>0.000000</td>\n",
       "      <td>0.000000</td>\n",
       "      <td>0.241843</td>\n",
       "      <td>0.000000</td>\n",
       "      <td>-0.172500</td>\n",
       "      <td>...</td>\n",
       "      <td>-1762.000000</td>\n",
       "      <td>0.047000</td>\n",
       "      <td>0.000000</td>\n",
       "      <td>-1.207000</td>\n",
       "      <td>0.109000</td>\n",
       "      <td>0.000000</td>\n",
       "      <td>-116.137000</td>\n",
       "      <td>279.852720</td>\n",
       "      <td>36.577381</td>\n",
       "      <td>6.966000</td>\n",
       "    </tr>\n",
       "    <tr>\n",
       "      <th>25%</th>\n",
       "      <td>2391.750000</td>\n",
       "      <td>5.556034e+06</td>\n",
       "      <td>0.000000</td>\n",
       "      <td>0.000000</td>\n",
       "      <td>0.000000</td>\n",
       "      <td>0.000000</td>\n",
       "      <td>0.000000</td>\n",
       "      <td>2.733684</td>\n",
       "      <td>0.000005</td>\n",
       "      <td>-0.000276</td>\n",
       "      <td>...</td>\n",
       "      <td>-198.000000</td>\n",
       "      <td>4.218000</td>\n",
       "      <td>0.042000</td>\n",
       "      <td>-0.196000</td>\n",
       "      <td>0.829000</td>\n",
       "      <td>0.129000</td>\n",
       "      <td>-0.250000</td>\n",
       "      <td>288.660770</td>\n",
       "      <td>40.777173</td>\n",
       "      <td>13.440000</td>\n",
       "    </tr>\n",
       "    <tr>\n",
       "      <th>50%</th>\n",
       "      <td>4782.500000</td>\n",
       "      <td>7.906892e+06</td>\n",
       "      <td>0.334000</td>\n",
       "      <td>0.000000</td>\n",
       "      <td>0.000000</td>\n",
       "      <td>0.000000</td>\n",
       "      <td>0.000000</td>\n",
       "      <td>9.752831</td>\n",
       "      <td>0.000035</td>\n",
       "      <td>-0.000035</td>\n",
       "      <td>...</td>\n",
       "      <td>-160.000000</td>\n",
       "      <td>4.438000</td>\n",
       "      <td>0.070000</td>\n",
       "      <td>-0.128000</td>\n",
       "      <td>1.000000</td>\n",
       "      <td>0.251000</td>\n",
       "      <td>-0.111000</td>\n",
       "      <td>292.261125</td>\n",
       "      <td>43.677504</td>\n",
       "      <td>14.520000</td>\n",
       "    </tr>\n",
       "    <tr>\n",
       "      <th>75%</th>\n",
       "      <td>7173.250000</td>\n",
       "      <td>9.873066e+06</td>\n",
       "      <td>0.998000</td>\n",
       "      <td>0.000000</td>\n",
       "      <td>0.000000</td>\n",
       "      <td>0.000000</td>\n",
       "      <td>0.000000</td>\n",
       "      <td>40.715178</td>\n",
       "      <td>0.000276</td>\n",
       "      <td>-0.000005</td>\n",
       "      <td>...</td>\n",
       "      <td>-114.000000</td>\n",
       "      <td>4.543000</td>\n",
       "      <td>0.149000</td>\n",
       "      <td>-0.088000</td>\n",
       "      <td>1.345000</td>\n",
       "      <td>0.364000</td>\n",
       "      <td>-0.069000</td>\n",
       "      <td>295.859160</td>\n",
       "      <td>46.714611</td>\n",
       "      <td>15.322000</td>\n",
       "    </tr>\n",
       "    <tr>\n",
       "      <th>max</th>\n",
       "      <td>9564.000000</td>\n",
       "      <td>1.293514e+07</td>\n",
       "      <td>1.000000</td>\n",
       "      <td>1.000000</td>\n",
       "      <td>1.000000</td>\n",
       "      <td>1.000000</td>\n",
       "      <td>1.000000</td>\n",
       "      <td>129995.778400</td>\n",
       "      <td>0.172500</td>\n",
       "      <td>0.000000</td>\n",
       "      <td>...</td>\n",
       "      <td>0.000000</td>\n",
       "      <td>5.364000</td>\n",
       "      <td>1.472000</td>\n",
       "      <td>0.000000</td>\n",
       "      <td>229.908000</td>\n",
       "      <td>33.091000</td>\n",
       "      <td>0.000000</td>\n",
       "      <td>301.720760</td>\n",
       "      <td>52.336010</td>\n",
       "      <td>20.003000</td>\n",
       "    </tr>\n",
       "  </tbody>\n",
       "</table>\n",
       "<p>8 rows × 45 columns</p>\n",
       "</div>"
      ],
      "text/plain": [
       "             rowid         kepid    koi_score  koi_fpflag_nt  koi_fpflag_ss  \\\n",
       "count  9564.000000  9.564000e+03  8054.000000    9564.000000    9564.000000   \n",
       "mean   4782.500000  7.690628e+06     0.480829       0.188206       0.231598   \n",
       "std    2761.033321  2.653459e+06     0.476928       0.390897       0.421875   \n",
       "min       1.000000  7.574500e+05     0.000000       0.000000       0.000000   \n",
       "25%    2391.750000  5.556034e+06     0.000000       0.000000       0.000000   \n",
       "50%    4782.500000  7.906892e+06     0.334000       0.000000       0.000000   \n",
       "75%    7173.250000  9.873066e+06     0.998000       0.000000       0.000000   \n",
       "max    9564.000000  1.293514e+07     1.000000       1.000000       1.000000   \n",
       "\n",
       "       koi_fpflag_co  koi_fpflag_ec     koi_period  koi_period_err1  \\\n",
       "count    9564.000000    9564.000000    9564.000000      9110.000000   \n",
       "mean        0.194898       0.120033      75.671358         0.002148   \n",
       "std         0.396143       0.325018    1334.744046         0.008236   \n",
       "min         0.000000       0.000000       0.241843         0.000000   \n",
       "25%         0.000000       0.000000       2.733684         0.000005   \n",
       "50%         0.000000       0.000000       9.752831         0.000035   \n",
       "75%         0.000000       0.000000      40.715178         0.000276   \n",
       "max         1.000000       1.000000  129995.778400         0.172500   \n",
       "\n",
       "       koi_period_err2  ...  koi_steff_err2    koi_slogg  koi_slogg_err1  \\\n",
       "count      9110.000000  ...     9081.000000  9201.000000     9096.000000   \n",
       "mean         -0.002148  ...     -162.265059     4.310157        0.120738   \n",
       "std           0.008236  ...       72.746348     0.432606        0.132837   \n",
       "min          -0.172500  ...    -1762.000000     0.047000        0.000000   \n",
       "25%          -0.000276  ...     -198.000000     4.218000        0.042000   \n",
       "50%          -0.000035  ...     -160.000000     4.438000        0.070000   \n",
       "75%          -0.000005  ...     -114.000000     4.543000        0.149000   \n",
       "max           0.000000  ...        0.000000     5.364000        1.472000   \n",
       "\n",
       "       koi_slogg_err2     koi_srad  koi_srad_err1  koi_srad_err2           ra  \\\n",
       "count     9096.000000  9201.000000    9096.000000    9096.000000  9564.000000   \n",
       "mean        -0.143161     1.728712       0.362292      -0.394806   292.060163   \n",
       "std          0.085477     6.127185       0.930870       2.168213     4.766657   \n",
       "min         -1.207000     0.109000       0.000000    -116.137000   279.852720   \n",
       "25%         -0.196000     0.829000       0.129000      -0.250000   288.660770   \n",
       "50%         -0.128000     1.000000       0.251000      -0.111000   292.261125   \n",
       "75%         -0.088000     1.345000       0.364000      -0.069000   295.859160   \n",
       "max          0.000000   229.908000      33.091000       0.000000   301.720760   \n",
       "\n",
       "               dec   koi_kepmag  \n",
       "count  9564.000000  9563.000000  \n",
       "mean     43.810433    14.264606  \n",
       "std       3.601243     1.385448  \n",
       "min      36.577381     6.966000  \n",
       "25%      40.777173    13.440000  \n",
       "50%      43.677504    14.520000  \n",
       "75%      46.714611    15.322000  \n",
       "max      52.336010    20.003000  \n",
       "\n",
       "[8 rows x 45 columns]"
      ]
     },
     "execution_count": 3,
     "metadata": {},
     "output_type": "execute_result"
    }
   ],
   "source": [
    "df_train.describe()"
   ]
  },
  {
   "cell_type": "code",
   "execution_count": 4,
   "metadata": {},
   "outputs": [
    {
     "data": {
      "text/html": [
       "<div>\n",
       "<style scoped>\n",
       "    .dataframe tbody tr th:only-of-type {\n",
       "        vertical-align: middle;\n",
       "    }\n",
       "\n",
       "    .dataframe tbody tr th {\n",
       "        vertical-align: top;\n",
       "    }\n",
       "\n",
       "    .dataframe thead th {\n",
       "        text-align: right;\n",
       "    }\n",
       "</style>\n",
       "<table border=\"1\" class=\"dataframe\">\n",
       "  <thead>\n",
       "    <tr style=\"text-align: right;\">\n",
       "      <th></th>\n",
       "      <th>rowid</th>\n",
       "      <th>kepid</th>\n",
       "      <th>kepoi_name</th>\n",
       "      <th>kepler_name</th>\n",
       "      <th>koi_disposition</th>\n",
       "      <th>koi_pdisposition</th>\n",
       "      <th>koi_score</th>\n",
       "      <th>koi_fpflag_nt</th>\n",
       "      <th>koi_fpflag_ss</th>\n",
       "      <th>koi_fpflag_co</th>\n",
       "      <th>...</th>\n",
       "      <th>koi_steff_err2</th>\n",
       "      <th>koi_slogg</th>\n",
       "      <th>koi_slogg_err1</th>\n",
       "      <th>koi_slogg_err2</th>\n",
       "      <th>koi_srad</th>\n",
       "      <th>koi_srad_err1</th>\n",
       "      <th>koi_srad_err2</th>\n",
       "      <th>ra</th>\n",
       "      <th>dec</th>\n",
       "      <th>koi_kepmag</th>\n",
       "    </tr>\n",
       "  </thead>\n",
       "  <tbody>\n",
       "    <tr>\n",
       "      <th>0</th>\n",
       "      <td>1</td>\n",
       "      <td>10797460</td>\n",
       "      <td>K00752.01</td>\n",
       "      <td>Kepler-227 b</td>\n",
       "      <td>CONFIRMED</td>\n",
       "      <td>CANDIDATE</td>\n",
       "      <td>1.000</td>\n",
       "      <td>0</td>\n",
       "      <td>0</td>\n",
       "      <td>0</td>\n",
       "      <td>...</td>\n",
       "      <td>-81.0</td>\n",
       "      <td>4.467</td>\n",
       "      <td>0.064</td>\n",
       "      <td>-0.096</td>\n",
       "      <td>0.927</td>\n",
       "      <td>0.105</td>\n",
       "      <td>-0.061</td>\n",
       "      <td>291.93423</td>\n",
       "      <td>48.141651</td>\n",
       "      <td>15.347</td>\n",
       "    </tr>\n",
       "    <tr>\n",
       "      <th>1</th>\n",
       "      <td>2</td>\n",
       "      <td>10797460</td>\n",
       "      <td>K00752.02</td>\n",
       "      <td>Kepler-227 c</td>\n",
       "      <td>CONFIRMED</td>\n",
       "      <td>CANDIDATE</td>\n",
       "      <td>0.969</td>\n",
       "      <td>0</td>\n",
       "      <td>0</td>\n",
       "      <td>0</td>\n",
       "      <td>...</td>\n",
       "      <td>-81.0</td>\n",
       "      <td>4.467</td>\n",
       "      <td>0.064</td>\n",
       "      <td>-0.096</td>\n",
       "      <td>0.927</td>\n",
       "      <td>0.105</td>\n",
       "      <td>-0.061</td>\n",
       "      <td>291.93423</td>\n",
       "      <td>48.141651</td>\n",
       "      <td>15.347</td>\n",
       "    </tr>\n",
       "    <tr>\n",
       "      <th>4</th>\n",
       "      <td>5</td>\n",
       "      <td>10854555</td>\n",
       "      <td>K00755.01</td>\n",
       "      <td>Kepler-664 b</td>\n",
       "      <td>CONFIRMED</td>\n",
       "      <td>CANDIDATE</td>\n",
       "      <td>1.000</td>\n",
       "      <td>0</td>\n",
       "      <td>0</td>\n",
       "      <td>0</td>\n",
       "      <td>...</td>\n",
       "      <td>-211.0</td>\n",
       "      <td>4.438</td>\n",
       "      <td>0.070</td>\n",
       "      <td>-0.210</td>\n",
       "      <td>1.046</td>\n",
       "      <td>0.334</td>\n",
       "      <td>-0.133</td>\n",
       "      <td>288.75488</td>\n",
       "      <td>48.226200</td>\n",
       "      <td>15.509</td>\n",
       "    </tr>\n",
       "    <tr>\n",
       "      <th>5</th>\n",
       "      <td>6</td>\n",
       "      <td>10872983</td>\n",
       "      <td>K00756.01</td>\n",
       "      <td>Kepler-228 d</td>\n",
       "      <td>CONFIRMED</td>\n",
       "      <td>CANDIDATE</td>\n",
       "      <td>1.000</td>\n",
       "      <td>0</td>\n",
       "      <td>0</td>\n",
       "      <td>0</td>\n",
       "      <td>...</td>\n",
       "      <td>-232.0</td>\n",
       "      <td>4.486</td>\n",
       "      <td>0.054</td>\n",
       "      <td>-0.229</td>\n",
       "      <td>0.972</td>\n",
       "      <td>0.315</td>\n",
       "      <td>-0.105</td>\n",
       "      <td>296.28613</td>\n",
       "      <td>48.224670</td>\n",
       "      <td>15.714</td>\n",
       "    </tr>\n",
       "    <tr>\n",
       "      <th>6</th>\n",
       "      <td>7</td>\n",
       "      <td>10872983</td>\n",
       "      <td>K00756.02</td>\n",
       "      <td>Kepler-228 c</td>\n",
       "      <td>CONFIRMED</td>\n",
       "      <td>CANDIDATE</td>\n",
       "      <td>1.000</td>\n",
       "      <td>0</td>\n",
       "      <td>0</td>\n",
       "      <td>0</td>\n",
       "      <td>...</td>\n",
       "      <td>-232.0</td>\n",
       "      <td>4.486</td>\n",
       "      <td>0.054</td>\n",
       "      <td>-0.229</td>\n",
       "      <td>0.972</td>\n",
       "      <td>0.315</td>\n",
       "      <td>-0.105</td>\n",
       "      <td>296.28613</td>\n",
       "      <td>48.224670</td>\n",
       "      <td>15.714</td>\n",
       "    </tr>\n",
       "  </tbody>\n",
       "</table>\n",
       "<p>5 rows × 50 columns</p>\n",
       "</div>"
      ],
      "text/plain": [
       "   rowid     kepid kepoi_name   kepler_name koi_disposition koi_pdisposition  \\\n",
       "0      1  10797460  K00752.01  Kepler-227 b       CONFIRMED        CANDIDATE   \n",
       "1      2  10797460  K00752.02  Kepler-227 c       CONFIRMED        CANDIDATE   \n",
       "4      5  10854555  K00755.01  Kepler-664 b       CONFIRMED        CANDIDATE   \n",
       "5      6  10872983  K00756.01  Kepler-228 d       CONFIRMED        CANDIDATE   \n",
       "6      7  10872983  K00756.02  Kepler-228 c       CONFIRMED        CANDIDATE   \n",
       "\n",
       "   koi_score  koi_fpflag_nt  koi_fpflag_ss  koi_fpflag_co  ...  \\\n",
       "0      1.000              0              0              0  ...   \n",
       "1      0.969              0              0              0  ...   \n",
       "4      1.000              0              0              0  ...   \n",
       "5      1.000              0              0              0  ...   \n",
       "6      1.000              0              0              0  ...   \n",
       "\n",
       "   koi_steff_err2  koi_slogg  koi_slogg_err1  koi_slogg_err2  koi_srad  \\\n",
       "0           -81.0      4.467           0.064          -0.096     0.927   \n",
       "1           -81.0      4.467           0.064          -0.096     0.927   \n",
       "4          -211.0      4.438           0.070          -0.210     1.046   \n",
       "5          -232.0      4.486           0.054          -0.229     0.972   \n",
       "6          -232.0      4.486           0.054          -0.229     0.972   \n",
       "\n",
       "   koi_srad_err1  koi_srad_err2         ra        dec  koi_kepmag  \n",
       "0          0.105         -0.061  291.93423  48.141651      15.347  \n",
       "1          0.105         -0.061  291.93423  48.141651      15.347  \n",
       "4          0.334         -0.133  288.75488  48.226200      15.509  \n",
       "5          0.315         -0.105  296.28613  48.224670      15.714  \n",
       "6          0.315         -0.105  296.28613  48.224670      15.714  \n",
       "\n",
       "[5 rows x 50 columns]"
      ]
     },
     "execution_count": 4,
     "metadata": {},
     "output_type": "execute_result"
    }
   ],
   "source": [
    "df_train.loc[(df_train['koi_disposition'] == \"CONFIRMED\" )].head()"
   ]
  },
  {
   "cell_type": "code",
   "execution_count": 5,
   "metadata": {},
   "outputs": [],
   "source": [
    "def normaliser(disposistion):\n",
    "    if disposistion == \"CONFIRMED\":\n",
    "        return 1\n",
    "    elif (disposistion == \"FALSE POSITIVE\"):\n",
    "        return 0\n",
    "    elif (disposistion == \"CANDIDATE\"):\n",
    "        return 2 \n",
    "    elif (disposistion == \"NOT DISPOSITIONED\"):\n",
    "        return 3\n",
    "    else: \n",
    "        return 0\n",
    "\n",
    "\n",
    "df_train_nor = df_train.copy()\n",
    "df_train_nor['koi_disposition_nor'] = df_train_nor.apply(lambda row: normaliser(row['koi_disposition']), axis=1)\n",
    "df_train_nor['koi_pdisposition_nor'] = df_train_nor.apply(lambda row: normaliser(row['koi_pdisposition']), axis=1)"
   ]
  },
  {
   "cell_type": "code",
   "execution_count": 6,
   "metadata": {
    "scrolled": true
   },
   "outputs": [
    {
     "data": {
      "image/png": "[encoded data removed]",
      "text/plain": [
       "<Figure size 1080x1080 with 2 Axes>"
      ]
     },
     "metadata": {
      "needs_background": "light"
     },
     "output_type": "display_data"
    }
   ],
   "source": [
    "def heatmap(x, y, **kwargs):\n",
    "    if 'color' in kwargs:\n",
    "        color = kwargs['color']\n",
    "    else:\n",
    "        color = [1]*len(x)\n",
    "\n",
    "    if 'palette' in kwargs:\n",
    "        palette = kwargs['palette']\n",
    "        n_colors = len(palette)\n",
    "    else:\n",
    "        n_colors = 256 # Use 256 colors for the diverging color palette\n",
    "        palette = sns.color_palette(\"Blues\", n_colors)\n",
    "\n",
    "    if 'color_range' in kwargs:\n",
    "        color_min, color_max = kwargs['color_range']\n",
    "    else:\n",
    "        color_min, color_max = min(color), max(color) # Range of values that will be mapped to the palette, i.e. min and max possible correlation\n",
    "\n",
    "    def value_to_color(val):\n",
    "        if color_min == color_max:\n",
    "            return palette[-1]\n",
    "        else:\n",
    "            val_position = float((val - color_min)) / (color_max - color_min) # position of value in the input range, relative to the length of the input range\n",
    "            val_position = min(max(val_position, 0), 1) # bound the position betwen 0 and 1\n",
    "            if np.isnan(val_position): val_position = 0\n",
    "            ind = int(val_position * (n_colors - 1)) # target index in the color palette\n",
    "            return palette[ind]\n",
    "\n",
    "    if 'size' in kwargs:\n",
    "        size = kwargs['size']\n",
    "    else:\n",
    "        size = [1]*len(x)\n",
    "\n",
    "    if 'size_range' in kwargs:\n",
    "        size_min, size_max = kwargs['size_range'][0], kwargs['size_range'][1]\n",
    "    else:\n",
    "        size_min, size_max = min(size), max(size)\n",
    "\n",
    "    size_scale = kwargs.get('size_scale', 500)\n",
    "\n",
    "    def value_to_size(val):\n",
    "        if size_min == size_max:\n",
    "            return 1 * size_scale\n",
    "        else:\n",
    "            val_position = (val - size_min) * 0.99 / (size_max - size_min) + 0.01 # position of value in the input range, relative to the length of the input range\n",
    "            val_position = min(max(val_position, 0), 1) # bound the position betwen 0 and 1\n",
    "            return val_position * size_scale\n",
    "    if 'x_order' in kwargs:\n",
    "        x_names = [t for t in kwargs['x_order']]\n",
    "    else:\n",
    "        x_names = [t for t in sorted(set([v for v in x]))]\n",
    "    x_to_num = {p[1]:p[0] for p in enumerate(x_names)}\n",
    "\n",
    "    if 'y_order' in kwargs:\n",
    "        y_names = [t for t in kwargs['y_order']]\n",
    "    else:\n",
    "        y_names = [t for t in sorted(set([v for v in y]))]\n",
    "    y_to_num = {p[1]:p[0] for p in enumerate(y_names)}\n",
    "\n",
    "    plot_grid = plt.GridSpec(15, 15, hspace=0.2, wspace=0.1) # Setup a 1x10 grid\n",
    "    ax = plt.subplot(plot_grid[:,:-1]) # Use the left 14/15ths of the grid for the main plot\n",
    "\n",
    "    marker = kwargs.get('marker', 's')\n",
    "\n",
    "    kwargs_pass_on = {k:v for k,v in kwargs.items() if k not in [\n",
    "         'color', 'palette', 'color_range', 'size', 'size_range', 'size_scale', 'marker', 'x_order', 'y_order'\n",
    "    ]}\n",
    "\n",
    "    ax.scatter(\n",
    "        x=[x_to_num[v] for v in x],\n",
    "        y=[y_to_num[v] for v in y],\n",
    "        marker=marker,\n",
    "        s=[value_to_size(v) for v in size],\n",
    "        c=[value_to_color(v) for v in color],\n",
    "        **kwargs_pass_on\n",
    "    )\n",
    "    ax.set_xticks([v for k,v in x_to_num.items()])\n",
    "    ax.set_xticklabels([k for k in x_to_num], rotation=45, horizontalalignment='right')\n",
    "    ax.set_yticks([v for k,v in y_to_num.items()])\n",
    "    ax.set_yticklabels([k for k in y_to_num])\n",
    "\n",
    "    ax.grid(False, 'major')\n",
    "    ax.grid(True, 'minor')\n",
    "    ax.set_xticks([t + 0.5 for t in ax.get_xticks()], minor=True)\n",
    "    ax.set_yticks([t + 0.5 for t in ax.get_yticks()], minor=True)\n",
    "\n",
    "    ax.set_xlim([-0.5, max([v for v in x_to_num.values()]) + 0.5])\n",
    "    ax.set_ylim([-0.5, max([v for v in y_to_num.values()]) + 0.5])\n",
    "    ax.set_facecolor('#F1F1F1')\n",
    "\n",
    "    # Add color legend on the right side of the plot\n",
    "    if color_min < color_max:\n",
    "        ax = plt.subplot(plot_grid[:,-1]) # Use the rightmost column of the plot\n",
    "\n",
    "        col_x = [0]*len(palette) # Fixed x coordinate for the bars\n",
    "        bar_y=np.linspace(color_min, color_max, n_colors) # y coordinates for each of the n_colors bars\n",
    "\n",
    "        bar_height = bar_y[1] - bar_y[0]\n",
    "        ax.barh(\n",
    "            y=bar_y,\n",
    "            width=[5]*len(palette), # Make bars 5 units wide\n",
    "            left=col_x, # Make bars start at 0\n",
    "            height=bar_height,\n",
    "            color=palette,\n",
    "            linewidth=0\n",
    "        )\n",
    "        ax.set_xlim(1, 2) # Bars are going from 0 to 5, so lets crop the plot somewhere in the middle\n",
    "        ax.grid(False) # Hide grid\n",
    "        ax.set_facecolor('white') # Make background white\n",
    "        ax.set_xticks([]) # Remove horizontal ticks\n",
    "        ax.set_yticks(np.linspace(min(bar_y), max(bar_y), 3)) # Show vertical ticks for min, middle and max\n",
    "        ax.yaxis.tick_right() # Show vertical ticks on the right\n",
    "\n",
    "\n",
    "def corrplot(data, size_scale=200, marker='s'):\n",
    "    corr = pd.melt(data.reset_index(), id_vars='index')\n",
    "    corr.columns = ['x', 'y', 'value']\n",
    "    heatmap(\n",
    "        corr['x'], corr['y'],\n",
    "        color=corr['value'], color_range=[-1, 1],\n",
    "        palette=sns.diverging_palette(140, 40, n=256),\n",
    "        size=corr['value'].abs(), size_range=[0,1],\n",
    "        marker=marker,\n",
    "        x_order=data.columns,\n",
    "        y_order=data.columns[::-1],\n",
    "        size_scale=size_scale\n",
    ")\n",
    "\n",
    "plt.figure(figsize=(15, 15))\n",
    "\n",
    "corrplot(df_train_nor.corr())"
   ]
  },
  {
   "cell_type": "code",
   "execution_count": 7,
   "metadata": {},
   "outputs": [
    {
     "data": {
      "text/html": [
       "<div>\n",
       "<style scoped>\n",
       "    .dataframe tbody tr th:only-of-type {\n",
       "        vertical-align: middle;\n",
       "    }\n",
       "\n",
       "    .dataframe tbody tr th {\n",
       "        vertical-align: top;\n",
       "    }\n",
       "\n",
       "    .dataframe thead th {\n",
       "        text-align: right;\n",
       "    }\n",
       "</style>\n",
       "<table border=\"1\" class=\"dataframe\">\n",
       "  <thead>\n",
       "    <tr style=\"text-align: right;\">\n",
       "      <th></th>\n",
       "      <th>0</th>\n",
       "    </tr>\n",
       "  </thead>\n",
       "  <tbody>\n",
       "    <tr>\n",
       "      <th>rowid</th>\n",
       "      <td>True</td>\n",
       "    </tr>\n",
       "    <tr>\n",
       "      <th>koi_score</th>\n",
       "      <td>True</td>\n",
       "    </tr>\n",
       "    <tr>\n",
       "      <th>koi_fpflag_nt</th>\n",
       "      <td>True</td>\n",
       "    </tr>\n",
       "    <tr>\n",
       "      <th>koi_fpflag_ss</th>\n",
       "      <td>True</td>\n",
       "    </tr>\n",
       "    <tr>\n",
       "      <th>koi_fpflag_co</th>\n",
       "      <td>True</td>\n",
       "    </tr>\n",
       "    <tr>\n",
       "      <th>koi_fpflag_ec</th>\n",
       "      <td>True</td>\n",
       "    </tr>\n",
       "    <tr>\n",
       "      <th>koi_depth</th>\n",
       "      <td>True</td>\n",
       "    </tr>\n",
       "    <tr>\n",
       "      <th>koi_teq</th>\n",
       "      <td>True</td>\n",
       "    </tr>\n",
       "    <tr>\n",
       "      <th>koi_model_snr</th>\n",
       "      <td>True</td>\n",
       "    </tr>\n",
       "    <tr>\n",
       "      <th>koi_steff_err1</th>\n",
       "      <td>True</td>\n",
       "    </tr>\n",
       "    <tr>\n",
       "      <th>koi_steff_err2</th>\n",
       "      <td>True</td>\n",
       "    </tr>\n",
       "    <tr>\n",
       "      <th>koi_disposition_nor</th>\n",
       "      <td>True</td>\n",
       "    </tr>\n",
       "    <tr>\n",
       "      <th>koi_pdisposition_nor</th>\n",
       "      <td>True</td>\n",
       "    </tr>\n",
       "  </tbody>\n",
       "</table>\n",
       "</div>"
      ],
      "text/plain": [
       "                         0\n",
       "rowid                 True\n",
       "koi_score             True\n",
       "koi_fpflag_nt         True\n",
       "koi_fpflag_ss         True\n",
       "koi_fpflag_co         True\n",
       "koi_fpflag_ec         True\n",
       "koi_depth             True\n",
       "koi_teq               True\n",
       "koi_model_snr         True\n",
       "koi_steff_err1        True\n",
       "koi_steff_err2        True\n",
       "koi_disposition_nor   True\n",
       "koi_pdisposition_nor  True"
      ]
     },
     "execution_count": 7,
     "metadata": {},
     "output_type": "execute_result"
    }
   ],
   "source": [
    "cor = 0.2\n",
    "correlation = pd.DataFrame((abs(df_train_nor.corr()['koi_disposition_nor']) > cor) & (abs(df_train_nor.corr()['koi_pdisposition_nor']) > cor))\n",
    "correlation.loc[correlation[0] == True]"
   ]
  },
  {
   "cell_type": "code",
   "execution_count": 8,
   "metadata": {},
   "outputs": [
    {
     "data": {
      "image/png": "[encoded data removed]",
      "text/plain": [
       "<Figure size 432x288 with 1 Axes>"
      ]
     },
     "metadata": {
      "needs_background": "light"
     },
     "output_type": "display_data"
    }
   ],
   "source": [
    "plt.plot(df_train_nor['koi_teq'], df_train_nor['koi_disposition'], 'ro', markersize=4)\n",
    "plt.show()"
   ]
  },
  {
   "cell_type": "markdown",
   "metadata": {},
   "source": [
    "Nous remanquons que les colonnes koi_disposition et koi_pdisposition sont en sont en correlation avec un d'autres collonnes que nous décidons de sélectionner pour la prédiction. \n",
    "\n",
    "Aprés analyse, nous décidont de prendre les attributs de la cellule suivante pour traitment. Cette décision sera menée à  être changée si nécissaire."
   ]
  },
  {
   "cell_type": "code",
   "execution_count": 9,
   "metadata": {},
   "outputs": [
    {
     "data": {
      "text/plain": [
       "(7271, 13)"
      ]
     },
     "execution_count": 9,
     "metadata": {},
     "output_type": "execute_result"
    }
   ],
   "source": [
    "data = df_train[['koi_score','koi_fpflag_nt','koi_fpflag_ss','koi_fpflag_co','koi_fpflag_ec','koi_depth','koi_teq','koi_model_snr','koi_steff_err1','koi_steff_err2','ra','koi_disposition','koi_pdisposition']]\n",
    "data.loc[data['koi_disposition'] == data['koi_pdisposition']].shape"
   ]
  },
  {
   "cell_type": "code",
   "execution_count": 10,
   "metadata": {},
   "outputs": [
    {
     "data": {
      "text/plain": [
       "(9564, 13)"
      ]
     },
     "execution_count": 10,
     "metadata": {},
     "output_type": "execute_result"
    }
   ],
   "source": [
    "data.shape"
   ]
  },
  {
   "cell_type": "code",
   "execution_count": 11,
   "metadata": {},
   "outputs": [
    {
     "data": {
      "text/plain": [
       "(45, 13)"
      ]
     },
     "execution_count": 11,
     "metadata": {},
     "output_type": "execute_result"
    }
   ],
   "source": [
    "data.loc[data['koi_pdisposition'] == 'FALSE POSITIVE'].loc[data['koi_disposition'] == 'CONFIRMED'].shape"
   ]
  },
  {
   "cell_type": "markdown",
   "metadata": {},
   "source": [
    "### Remarque :\n",
    "On remarque qu'il ya un certain nombre de koi qui ont été désaprouvés par kipler, donc nous nous basant sur ça on change les valeurs de la colonne 'koi_disposition' de c'est ligne en question de 'CONFIRMED' à 'FALSE POSITIVE'.\n",
    "\n",
    "On part aussi du principe que si un koi n'a pas encore été désaprouvé par kipler, c'est une exoplanéte.\n",
    "\n",
    "   "
   ]
  },
  {
   "cell_type": "code",
   "execution_count": 12,
   "metadata": {},
   "outputs": [
    {
     "data": {
      "text/plain": [
       "(45, 13)"
      ]
     },
     "execution_count": 12,
     "metadata": {},
     "output_type": "execute_result"
    }
   ],
   "source": [
    "data.loc[data['koi_pdisposition'] == 'FALSE POSITIVE'].loc[data['koi_disposition'] == 'CONFIRMED'].shape"
   ]
  },
  {
   "cell_type": "code",
   "execution_count": 13,
   "metadata": {},
   "outputs": [
    {
     "data": {
      "text/plain": [
       "(0, 13)"
      ]
     },
     "execution_count": 13,
     "metadata": {},
     "output_type": "execute_result"
    }
   ],
   "source": [
    "mask = (data['koi_pdisposition'] == 'FALSE POSITIVE') & (data['koi_disposition'] == 'CONFIRMED')\n",
    "data['koi_disposition'][mask] = 'FALSE POSITIVE'\n",
    "data.loc[data['koi_pdisposition'] == 'FALSE POSITIVE'].loc[data['koi_disposition'] == 'CONFIRMED'].shape"
   ]
  },
  {
   "cell_type": "code",
   "execution_count": 14,
   "metadata": {},
   "outputs": [
    {
     "data": {
      "text/html": [
       "<div>\n",
       "<style scoped>\n",
       "    .dataframe tbody tr th:only-of-type {\n",
       "        vertical-align: middle;\n",
       "    }\n",
       "\n",
       "    .dataframe tbody tr th {\n",
       "        vertical-align: top;\n",
       "    }\n",
       "\n",
       "    .dataframe thead th {\n",
       "        text-align: right;\n",
       "    }\n",
       "</style>\n",
       "<table border=\"1\" class=\"dataframe\">\n",
       "  <thead>\n",
       "    <tr style=\"text-align: right;\">\n",
       "      <th></th>\n",
       "      <th>koi_score</th>\n",
       "      <th>koi_fpflag_nt</th>\n",
       "      <th>koi_fpflag_ss</th>\n",
       "      <th>koi_fpflag_co</th>\n",
       "      <th>koi_fpflag_ec</th>\n",
       "      <th>koi_depth</th>\n",
       "      <th>koi_teq</th>\n",
       "      <th>koi_model_snr</th>\n",
       "      <th>koi_steff_err1</th>\n",
       "      <th>koi_steff_err2</th>\n",
       "      <th>ra</th>\n",
       "      <th>koi_disposition</th>\n",
       "      <th>koi_pdisposition</th>\n",
       "    </tr>\n",
       "  </thead>\n",
       "  <tbody>\n",
       "    <tr>\n",
       "      <th>0</th>\n",
       "      <td>1.000</td>\n",
       "      <td>0</td>\n",
       "      <td>0</td>\n",
       "      <td>0</td>\n",
       "      <td>0</td>\n",
       "      <td>615.8</td>\n",
       "      <td>793.0</td>\n",
       "      <td>35.8</td>\n",
       "      <td>81.0</td>\n",
       "      <td>-81.0</td>\n",
       "      <td>291.93423</td>\n",
       "      <td>CONFIRMED</td>\n",
       "      <td>CANDIDATE</td>\n",
       "    </tr>\n",
       "    <tr>\n",
       "      <th>1</th>\n",
       "      <td>0.969</td>\n",
       "      <td>0</td>\n",
       "      <td>0</td>\n",
       "      <td>0</td>\n",
       "      <td>0</td>\n",
       "      <td>874.8</td>\n",
       "      <td>443.0</td>\n",
       "      <td>25.8</td>\n",
       "      <td>81.0</td>\n",
       "      <td>-81.0</td>\n",
       "      <td>291.93423</td>\n",
       "      <td>CONFIRMED</td>\n",
       "      <td>CANDIDATE</td>\n",
       "    </tr>\n",
       "    <tr>\n",
       "      <th>2</th>\n",
       "      <td>0.000</td>\n",
       "      <td>0</td>\n",
       "      <td>1</td>\n",
       "      <td>0</td>\n",
       "      <td>0</td>\n",
       "      <td>10829.0</td>\n",
       "      <td>638.0</td>\n",
       "      <td>76.3</td>\n",
       "      <td>158.0</td>\n",
       "      <td>-176.0</td>\n",
       "      <td>297.00482</td>\n",
       "      <td>FALSE POSITIVE</td>\n",
       "      <td>FALSE POSITIVE</td>\n",
       "    </tr>\n",
       "    <tr>\n",
       "      <th>3</th>\n",
       "      <td>0.000</td>\n",
       "      <td>0</td>\n",
       "      <td>1</td>\n",
       "      <td>0</td>\n",
       "      <td>0</td>\n",
       "      <td>8079.2</td>\n",
       "      <td>1395.0</td>\n",
       "      <td>505.6</td>\n",
       "      <td>157.0</td>\n",
       "      <td>-174.0</td>\n",
       "      <td>285.53461</td>\n",
       "      <td>FALSE POSITIVE</td>\n",
       "      <td>FALSE POSITIVE</td>\n",
       "    </tr>\n",
       "    <tr>\n",
       "      <th>4</th>\n",
       "      <td>1.000</td>\n",
       "      <td>0</td>\n",
       "      <td>0</td>\n",
       "      <td>0</td>\n",
       "      <td>0</td>\n",
       "      <td>603.3</td>\n",
       "      <td>1406.0</td>\n",
       "      <td>40.9</td>\n",
       "      <td>169.0</td>\n",
       "      <td>-211.0</td>\n",
       "      <td>288.75488</td>\n",
       "      <td>CONFIRMED</td>\n",
       "      <td>CANDIDATE</td>\n",
       "    </tr>\n",
       "  </tbody>\n",
       "</table>\n",
       "</div>"
      ],
      "text/plain": [
       "   koi_score  koi_fpflag_nt  koi_fpflag_ss  koi_fpflag_co  koi_fpflag_ec  \\\n",
       "0      1.000              0              0              0              0   \n",
       "1      0.969              0              0              0              0   \n",
       "2      0.000              0              1              0              0   \n",
       "3      0.000              0              1              0              0   \n",
       "4      1.000              0              0              0              0   \n",
       "\n",
       "   koi_depth  koi_teq  koi_model_snr  koi_steff_err1  koi_steff_err2  \\\n",
       "0      615.8    793.0           35.8            81.0           -81.0   \n",
       "1      874.8    443.0           25.8            81.0           -81.0   \n",
       "2    10829.0    638.0           76.3           158.0          -176.0   \n",
       "3     8079.2   1395.0          505.6           157.0          -174.0   \n",
       "4      603.3   1406.0           40.9           169.0          -211.0   \n",
       "\n",
       "          ra koi_disposition koi_pdisposition  \n",
       "0  291.93423       CONFIRMED        CANDIDATE  \n",
       "1  291.93423       CONFIRMED        CANDIDATE  \n",
       "2  297.00482  FALSE POSITIVE   FALSE POSITIVE  \n",
       "3  285.53461  FALSE POSITIVE   FALSE POSITIVE  \n",
       "4  288.75488       CONFIRMED        CANDIDATE  "
      ]
     },
     "execution_count": 14,
     "metadata": {},
     "output_type": "execute_result"
    }
   ],
   "source": [
    "data.head()"
   ]
  },
  {
   "cell_type": "code",
   "execution_count": 15,
   "metadata": {},
   "outputs": [
    {
     "data": {
      "image/png": "[encoded data removed]",
      "text/plain": [
       "<Figure size 432x288 with 1 Axes>"
      ]
     },
     "metadata": {
      "needs_background": "light"
     },
     "output_type": "display_data"
    }
   ],
   "source": [
    "plt.plot(data['koi_depth'], data['koi_fpflag_nt'], 'ro', markersize=4)\n",
    "plt.show()"
   ]
  },
  {
   "cell_type": "code",
   "execution_count": 16,
   "metadata": {},
   "outputs": [
    {
     "data": {
      "text/plain": [
       "1672"
      ]
     },
     "execution_count": 16,
     "metadata": {},
     "output_type": "execute_result"
    }
   ],
   "source": [
    "data.isnull().T.any().T.sum()"
   ]
  },
  {
   "cell_type": "code",
   "execution_count": 17,
   "metadata": {},
   "outputs": [
    {
     "data": {
      "text/html": [
       "<div>\n",
       "<style scoped>\n",
       "    .dataframe tbody tr th:only-of-type {\n",
       "        vertical-align: middle;\n",
       "    }\n",
       "\n",
       "    .dataframe tbody tr th {\n",
       "        vertical-align: top;\n",
       "    }\n",
       "\n",
       "    .dataframe thead th {\n",
       "        text-align: right;\n",
       "    }\n",
       "</style>\n",
       "<table border=\"1\" class=\"dataframe\">\n",
       "  <thead>\n",
       "    <tr style=\"text-align: right;\">\n",
       "      <th></th>\n",
       "      <th>koi_score</th>\n",
       "      <th>koi_fpflag_nt</th>\n",
       "      <th>koi_fpflag_ss</th>\n",
       "      <th>koi_fpflag_co</th>\n",
       "      <th>koi_fpflag_ec</th>\n",
       "      <th>koi_depth</th>\n",
       "      <th>koi_teq</th>\n",
       "      <th>koi_model_snr</th>\n",
       "      <th>koi_steff_err1</th>\n",
       "      <th>koi_steff_err2</th>\n",
       "      <th>ra</th>\n",
       "    </tr>\n",
       "    <tr>\n",
       "      <th>koi_disposition</th>\n",
       "      <th></th>\n",
       "      <th></th>\n",
       "      <th></th>\n",
       "      <th></th>\n",
       "      <th></th>\n",
       "      <th></th>\n",
       "      <th></th>\n",
       "      <th></th>\n",
       "      <th></th>\n",
       "      <th></th>\n",
       "      <th></th>\n",
       "    </tr>\n",
       "  </thead>\n",
       "  <tbody>\n",
       "    <tr>\n",
       "      <th>CANDIDATE</th>\n",
       "      <td>0.900210</td>\n",
       "      <td>0.00000</td>\n",
       "      <td>0.014235</td>\n",
       "      <td>0.000000</td>\n",
       "      <td>0.000000</td>\n",
       "      <td>1864.238856</td>\n",
       "      <td>882.420137</td>\n",
       "      <td>45.595789</td>\n",
       "      <td>139.562701</td>\n",
       "      <td>-153.667892</td>\n",
       "      <td>291.789595</td>\n",
       "    </tr>\n",
       "    <tr>\n",
       "      <th>CONFIRMED</th>\n",
       "      <td>0.979740</td>\n",
       "      <td>0.00000</td>\n",
       "      <td>0.004448</td>\n",
       "      <td>0.000000</td>\n",
       "      <td>0.000000</td>\n",
       "      <td>1117.396619</td>\n",
       "      <td>838.390125</td>\n",
       "      <td>87.884164</td>\n",
       "      <td>116.998665</td>\n",
       "      <td>-124.325280</td>\n",
       "      <td>290.941233</td>\n",
       "    </tr>\n",
       "    <tr>\n",
       "      <th>FALSE POSITIVE</th>\n",
       "      <td>0.015733</td>\n",
       "      <td>0.35517</td>\n",
       "      <td>0.428769</td>\n",
       "      <td>0.367798</td>\n",
       "      <td>0.226519</td>\n",
       "      <td>44529.952202</td>\n",
       "      <td>1294.850252</td>\n",
       "      <td>439.199560</td>\n",
       "      <td>160.300578</td>\n",
       "      <td>-184.434997</td>\n",
       "      <td>292.676499</td>\n",
       "    </tr>\n",
       "  </tbody>\n",
       "</table>\n",
       "</div>"
      ],
      "text/plain": [
       "                 koi_score  koi_fpflag_nt  koi_fpflag_ss  koi_fpflag_co  \\\n",
       "koi_disposition                                                           \n",
       "CANDIDATE         0.900210        0.00000       0.014235       0.000000   \n",
       "CONFIRMED         0.979740        0.00000       0.004448       0.000000   \n",
       "FALSE POSITIVE    0.015733        0.35517       0.428769       0.367798   \n",
       "\n",
       "                 koi_fpflag_ec     koi_depth      koi_teq  koi_model_snr  \\\n",
       "koi_disposition                                                            \n",
       "CANDIDATE             0.000000   1864.238856   882.420137      45.595789   \n",
       "CONFIRMED             0.000000   1117.396619   838.390125      87.884164   \n",
       "FALSE POSITIVE        0.226519  44529.952202  1294.850252     439.199560   \n",
       "\n",
       "                 koi_steff_err1  koi_steff_err2          ra  \n",
       "koi_disposition                                              \n",
       "CANDIDATE            139.562701     -153.667892  291.789595  \n",
       "CONFIRMED            116.998665     -124.325280  290.941233  \n",
       "FALSE POSITIVE       160.300578     -184.434997  292.676499  "
      ]
     },
     "execution_count": 17,
     "metadata": {},
     "output_type": "execute_result"
    }
   ],
   "source": [
    "data.groupby(['koi_disposition']).mean()"
   ]
  },
  {
   "cell_type": "code",
   "execution_count": 18,
   "metadata": {},
   "outputs": [
    {
     "data": {
      "text/html": [
       "<div>\n",
       "<style scoped>\n",
       "    .dataframe tbody tr th:only-of-type {\n",
       "        vertical-align: middle;\n",
       "    }\n",
       "\n",
       "    .dataframe tbody tr th {\n",
       "        vertical-align: top;\n",
       "    }\n",
       "\n",
       "    .dataframe thead th {\n",
       "        text-align: right;\n",
       "    }\n",
       "</style>\n",
       "<table border=\"1\" class=\"dataframe\">\n",
       "  <thead>\n",
       "    <tr style=\"text-align: right;\">\n",
       "      <th></th>\n",
       "      <th>koi_score</th>\n",
       "      <th>koi_fpflag_nt</th>\n",
       "      <th>koi_fpflag_ss</th>\n",
       "      <th>koi_fpflag_co</th>\n",
       "      <th>koi_fpflag_ec</th>\n",
       "      <th>koi_depth</th>\n",
       "      <th>koi_teq</th>\n",
       "      <th>koi_model_snr</th>\n",
       "      <th>koi_steff_err1</th>\n",
       "      <th>koi_steff_err2</th>\n",
       "      <th>ra</th>\n",
       "    </tr>\n",
       "    <tr>\n",
       "      <th>koi_disposition</th>\n",
       "      <th></th>\n",
       "      <th></th>\n",
       "      <th></th>\n",
       "      <th></th>\n",
       "      <th></th>\n",
       "      <th></th>\n",
       "      <th></th>\n",
       "      <th></th>\n",
       "      <th></th>\n",
       "      <th></th>\n",
       "      <th></th>\n",
       "    </tr>\n",
       "  </thead>\n",
       "  <tbody>\n",
       "    <tr>\n",
       "      <th>CANDIDATE</th>\n",
       "      <td>0.987</td>\n",
       "      <td>0</td>\n",
       "      <td>0</td>\n",
       "      <td>0</td>\n",
       "      <td>0</td>\n",
       "      <td>257.90</td>\n",
       "      <td>772.0</td>\n",
       "      <td>12.40</td>\n",
       "      <td>154.0</td>\n",
       "      <td>-154.0</td>\n",
       "      <td>292.117185</td>\n",
       "    </tr>\n",
       "    <tr>\n",
       "      <th>CONFIRMED</th>\n",
       "      <td>1.000</td>\n",
       "      <td>0</td>\n",
       "      <td>0</td>\n",
       "      <td>0</td>\n",
       "      <td>0</td>\n",
       "      <td>460.10</td>\n",
       "      <td>782.0</td>\n",
       "      <td>31.55</td>\n",
       "      <td>107.0</td>\n",
       "      <td>-112.0</td>\n",
       "      <td>291.111880</td>\n",
       "    </tr>\n",
       "    <tr>\n",
       "      <th>FALSE POSITIVE</th>\n",
       "      <td>0.000</td>\n",
       "      <td>0</td>\n",
       "      <td>0</td>\n",
       "      <td>0</td>\n",
       "      <td>0</td>\n",
       "      <td>548.25</td>\n",
       "      <td>1086.5</td>\n",
       "      <td>29.50</td>\n",
       "      <td>164.0</td>\n",
       "      <td>-178.0</td>\n",
       "      <td>292.924820</td>\n",
       "    </tr>\n",
       "  </tbody>\n",
       "</table>\n",
       "</div>"
      ],
      "text/plain": [
       "                 koi_score  koi_fpflag_nt  koi_fpflag_ss  koi_fpflag_co  \\\n",
       "koi_disposition                                                           \n",
       "CANDIDATE            0.987              0              0              0   \n",
       "CONFIRMED            1.000              0              0              0   \n",
       "FALSE POSITIVE       0.000              0              0              0   \n",
       "\n",
       "                 koi_fpflag_ec  koi_depth  koi_teq  koi_model_snr  \\\n",
       "koi_disposition                                                     \n",
       "CANDIDATE                    0     257.90    772.0          12.40   \n",
       "CONFIRMED                    0     460.10    782.0          31.55   \n",
       "FALSE POSITIVE               0     548.25   1086.5          29.50   \n",
       "\n",
       "                 koi_steff_err1  koi_steff_err2          ra  \n",
       "koi_disposition                                              \n",
       "CANDIDATE                 154.0          -154.0  292.117185  \n",
       "CONFIRMED                 107.0          -112.0  291.111880  \n",
       "FALSE POSITIVE            164.0          -178.0  292.924820  "
      ]
     },
     "execution_count": 18,
     "metadata": {},
     "output_type": "execute_result"
    }
   ],
   "source": [
    "data.groupby(['koi_disposition']).median()"
   ]
  },
  {
   "cell_type": "markdown",
   "metadata": {},
   "source": [
    "Aprés obeservation et réflixion, on décide de remplace les nan par la median de leur colonne, et ce aprés avoir  fait un groupby sur la colonne 'koi_disposition'"
   ]
  },
  {
   "cell_type": "code",
   "execution_count": 19,
   "metadata": {},
   "outputs": [
    {
     "data": {
      "text/html": [
       "<div>\n",
       "<style scoped>\n",
       "    .dataframe tbody tr th:only-of-type {\n",
       "        vertical-align: middle;\n",
       "    }\n",
       "\n",
       "    .dataframe tbody tr th {\n",
       "        vertical-align: top;\n",
       "    }\n",
       "\n",
       "    .dataframe thead th {\n",
       "        text-align: right;\n",
       "    }\n",
       "</style>\n",
       "<table border=\"1\" class=\"dataframe\">\n",
       "  <thead>\n",
       "    <tr style=\"text-align: right;\">\n",
       "      <th></th>\n",
       "      <th>koi_score</th>\n",
       "      <th>koi_fpflag_nt</th>\n",
       "      <th>koi_fpflag_ss</th>\n",
       "      <th>koi_fpflag_co</th>\n",
       "      <th>koi_fpflag_ec</th>\n",
       "      <th>koi_depth</th>\n",
       "      <th>koi_teq</th>\n",
       "      <th>koi_model_snr</th>\n",
       "      <th>koi_steff_err1</th>\n",
       "      <th>koi_steff_err2</th>\n",
       "      <th>ra</th>\n",
       "      <th>koi_disposition</th>\n",
       "      <th>koi_pdisposition</th>\n",
       "    </tr>\n",
       "  </thead>\n",
       "  <tbody>\n",
       "    <tr>\n",
       "      <th>99</th>\n",
       "      <td>NaN</td>\n",
       "      <td>0</td>\n",
       "      <td>0</td>\n",
       "      <td>0</td>\n",
       "      <td>0</td>\n",
       "      <td>488.0</td>\n",
       "      <td>524.0</td>\n",
       "      <td>11.6</td>\n",
       "      <td>99.0</td>\n",
       "      <td>-112.0</td>\n",
       "      <td>285.28363</td>\n",
       "      <td>CONFIRMED</td>\n",
       "      <td>CANDIDATE</td>\n",
       "    </tr>\n",
       "    <tr>\n",
       "      <th>142</th>\n",
       "      <td>1.0</td>\n",
       "      <td>0</td>\n",
       "      <td>0</td>\n",
       "      <td>0</td>\n",
       "      <td>0</td>\n",
       "      <td>1037.3</td>\n",
       "      <td>616.0</td>\n",
       "      <td>48.9</td>\n",
       "      <td>99.0</td>\n",
       "      <td>NaN</td>\n",
       "      <td>294.20215</td>\n",
       "      <td>CONFIRMED</td>\n",
       "      <td>CANDIDATE</td>\n",
       "    </tr>\n",
       "    <tr>\n",
       "      <th>290</th>\n",
       "      <td>1.0</td>\n",
       "      <td>0</td>\n",
       "      <td>0</td>\n",
       "      <td>0</td>\n",
       "      <td>0</td>\n",
       "      <td>280.1</td>\n",
       "      <td>1315.0</td>\n",
       "      <td>30.6</td>\n",
       "      <td>111.0</td>\n",
       "      <td>NaN</td>\n",
       "      <td>292.58044</td>\n",
       "      <td>CONFIRMED</td>\n",
       "      <td>CANDIDATE</td>\n",
       "    </tr>\n",
       "    <tr>\n",
       "      <th>528</th>\n",
       "      <td>NaN</td>\n",
       "      <td>0</td>\n",
       "      <td>0</td>\n",
       "      <td>0</td>\n",
       "      <td>0</td>\n",
       "      <td>1479.0</td>\n",
       "      <td>758.0</td>\n",
       "      <td>302.2</td>\n",
       "      <td>82.0</td>\n",
       "      <td>-116.0</td>\n",
       "      <td>291.14807</td>\n",
       "      <td>CONFIRMED</td>\n",
       "      <td>CANDIDATE</td>\n",
       "    </tr>\n",
       "    <tr>\n",
       "      <th>843</th>\n",
       "      <td>NaN</td>\n",
       "      <td>0</td>\n",
       "      <td>0</td>\n",
       "      <td>0</td>\n",
       "      <td>0</td>\n",
       "      <td>2319.1</td>\n",
       "      <td>178.0</td>\n",
       "      <td>96.1</td>\n",
       "      <td>121.0</td>\n",
       "      <td>-95.0</td>\n",
       "      <td>283.25681</td>\n",
       "      <td>CONFIRMED</td>\n",
       "      <td>CANDIDATE</td>\n",
       "    </tr>\n",
       "  </tbody>\n",
       "</table>\n",
       "</div>"
      ],
      "text/plain": [
       "     koi_score  koi_fpflag_nt  koi_fpflag_ss  koi_fpflag_co  koi_fpflag_ec  \\\n",
       "99         NaN              0              0              0              0   \n",
       "142        1.0              0              0              0              0   \n",
       "290        1.0              0              0              0              0   \n",
       "528        NaN              0              0              0              0   \n",
       "843        NaN              0              0              0              0   \n",
       "\n",
       "     koi_depth  koi_teq  koi_model_snr  koi_steff_err1  koi_steff_err2  \\\n",
       "99       488.0    524.0           11.6            99.0          -112.0   \n",
       "142     1037.3    616.0           48.9            99.0             NaN   \n",
       "290      280.1   1315.0           30.6           111.0             NaN   \n",
       "528     1479.0    758.0          302.2            82.0          -116.0   \n",
       "843     2319.1    178.0           96.1           121.0           -95.0   \n",
       "\n",
       "            ra koi_disposition koi_pdisposition  \n",
       "99   285.28363       CONFIRMED        CANDIDATE  \n",
       "142  294.20215       CONFIRMED        CANDIDATE  \n",
       "290  292.58044       CONFIRMED        CANDIDATE  \n",
       "528  291.14807       CONFIRMED        CANDIDATE  \n",
       "843  283.25681       CONFIRMED        CANDIDATE  "
      ]
     },
     "execution_count": 19,
     "metadata": {},
     "output_type": "execute_result"
    }
   ],
   "source": [
    "nan_rows = data[data.isnull().T.any().T]\n",
    "nan_rows.loc[nan_rows[\"koi_disposition\"] == \"CONFIRMED\"].head()"
   ]
  },
  {
   "cell_type": "code",
   "execution_count": 20,
   "metadata": {},
   "outputs": [
    {
     "data": {
      "text/html": [
       "<div>\n",
       "<style scoped>\n",
       "    .dataframe tbody tr th:only-of-type {\n",
       "        vertical-align: middle;\n",
       "    }\n",
       "\n",
       "    .dataframe tbody tr th {\n",
       "        vertical-align: top;\n",
       "    }\n",
       "\n",
       "    .dataframe thead th {\n",
       "        text-align: right;\n",
       "    }\n",
       "</style>\n",
       "<table border=\"1\" class=\"dataframe\">\n",
       "  <thead>\n",
       "    <tr style=\"text-align: right;\">\n",
       "      <th></th>\n",
       "      <th>koi_score</th>\n",
       "      <th>koi_fpflag_nt</th>\n",
       "      <th>koi_fpflag_ss</th>\n",
       "      <th>koi_fpflag_co</th>\n",
       "      <th>koi_fpflag_ec</th>\n",
       "      <th>koi_depth</th>\n",
       "      <th>koi_teq</th>\n",
       "      <th>koi_model_snr</th>\n",
       "      <th>koi_steff_err1</th>\n",
       "      <th>koi_steff_err2</th>\n",
       "      <th>ra</th>\n",
       "      <th>koi_disposition</th>\n",
       "      <th>koi_pdisposition</th>\n",
       "    </tr>\n",
       "  </thead>\n",
       "  <tbody>\n",
       "  </tbody>\n",
       "</table>\n",
       "</div>"
      ],
      "text/plain": [
       "Empty DataFrame\n",
       "Columns: [koi_score, koi_fpflag_nt, koi_fpflag_ss, koi_fpflag_co, koi_fpflag_ec, koi_depth, koi_teq, koi_model_snr, koi_steff_err1, koi_steff_err2, ra, koi_disposition, koi_pdisposition]\n",
       "Index: []"
      ]
     },
     "execution_count": 20,
     "metadata": {},
     "output_type": "execute_result"
    }
   ],
   "source": [
    "clean_data = data.fillna(data.groupby('koi_disposition').transform('median'))\n",
    "nan_rows = clean_data[clean_data.isnull().T.any().T]\n",
    "nan_rows"
   ]
  },
  {
   "cell_type": "code",
   "execution_count": 21,
   "metadata": {},
   "outputs": [
    {
     "data": {
      "text/plain": [
       "koi_score                        0\n",
       "koi_fpflag_nt                    0\n",
       "koi_fpflag_ss                    0\n",
       "koi_fpflag_co                    0\n",
       "koi_fpflag_ec                    0\n",
       "koi_depth                   548.25\n",
       "koi_teq                     1086.5\n",
       "koi_model_snr                 29.5\n",
       "koi_steff_err1                 164\n",
       "koi_steff_err2                -178\n",
       "ra                         284.386\n",
       "koi_disposition     FALSE POSITIVE\n",
       "koi_pdisposition    FALSE POSITIVE\n",
       "Name: 555, dtype: object"
      ]
     },
     "execution_count": 21,
     "metadata": {},
     "output_type": "execute_result"
    }
   ],
   "source": [
    "clean_data.iloc[555]"
   ]
  },
  {
   "cell_type": "code",
   "execution_count": 22,
   "metadata": {},
   "outputs": [
    {
     "data": {
      "text/plain": [
       "koi_score                      NaN\n",
       "koi_fpflag_nt                    0\n",
       "koi_fpflag_ss                    0\n",
       "koi_fpflag_co                    0\n",
       "koi_fpflag_ec                    0\n",
       "koi_depth                      NaN\n",
       "koi_teq                        NaN\n",
       "koi_model_snr                  NaN\n",
       "koi_steff_err1                 NaN\n",
       "koi_steff_err2                 NaN\n",
       "ra                         284.386\n",
       "koi_disposition     FALSE POSITIVE\n",
       "koi_pdisposition    FALSE POSITIVE\n",
       "Name: 555, dtype: object"
      ]
     },
     "execution_count": 22,
     "metadata": {},
     "output_type": "execute_result"
    }
   ],
   "source": [
    "data.iloc[555]"
   ]
  },
  {
   "cell_type": "code",
   "execution_count": 23,
   "metadata": {},
   "outputs": [
    {
     "data": {
      "text/plain": [
       "FALSE POSITIVE    5068\n",
       "CONFIRMED         2248\n",
       "CANDIDATE         2248\n",
       "Name: koi_disposition, dtype: int64"
      ]
     },
     "execution_count": 23,
     "metadata": {},
     "output_type": "execute_result"
    }
   ],
   "source": [
    "clean_data['koi_disposition'].value_counts()"
   ]
  },
  {
   "cell_type": "code",
   "execution_count": 24,
   "metadata": {},
   "outputs": [
    {
     "data": {
      "text/plain": [
       "FALSE POSITIVE    5068\n",
       "CONFIRMED         2248\n",
       "Name: koi_disposition, dtype: int64"
      ]
     },
     "execution_count": 24,
     "metadata": {},
     "output_type": "execute_result"
    }
   ],
   "source": [
    "msk = clean_data[ clean_data['koi_disposition'] == \"CANDIDATE\" ].index\n",
    "c_data = clean_data.copy()\n",
    "# Delete these row indexes from dataFrame\n",
    "c_data.drop(msk , inplace=True)\n",
    "c_data['koi_disposition'].value_counts()"
   ]
  },
  {
   "cell_type": "markdown",
   "metadata": {},
   "source": [
    "## Régression linéaire  \n",
    "\n",
    "Dans une premiére étape nous allons faire la prédiction de koi_score"
   ]
  },
  {
   "cell_type": "code",
   "execution_count": 25,
   "metadata": {},
   "outputs": [],
   "source": [
    "from sklearn import linear_model # Le modèle linéaire\n",
    "from sklearn.metrics import mean_squared_error, r2_score # Métriques d'évaluation\n",
    "from sklearn.model_selection import train_test_split"
   ]
  },
  {
   "cell_type": "code",
   "execution_count": 26,
   "metadata": {},
   "outputs": [
    {
     "data": {
      "text/html": [
       "<div>\n",
       "<style scoped>\n",
       "    .dataframe tbody tr th:only-of-type {\n",
       "        vertical-align: middle;\n",
       "    }\n",
       "\n",
       "    .dataframe tbody tr th {\n",
       "        vertical-align: top;\n",
       "    }\n",
       "\n",
       "    .dataframe thead th {\n",
       "        text-align: right;\n",
       "    }\n",
       "</style>\n",
       "<table border=\"1\" class=\"dataframe\">\n",
       "  <thead>\n",
       "    <tr style=\"text-align: right;\">\n",
       "      <th></th>\n",
       "      <th>koi_fpflag_nt</th>\n",
       "      <th>koi_fpflag_ss</th>\n",
       "      <th>koi_fpflag_co</th>\n",
       "      <th>koi_fpflag_ec</th>\n",
       "      <th>koi_depth</th>\n",
       "      <th>koi_teq</th>\n",
       "      <th>koi_model_snr</th>\n",
       "      <th>koi_steff_err1</th>\n",
       "      <th>koi_steff_err2</th>\n",
       "      <th>ra</th>\n",
       "    </tr>\n",
       "  </thead>\n",
       "  <tbody>\n",
       "    <tr>\n",
       "      <th>0</th>\n",
       "      <td>0</td>\n",
       "      <td>0</td>\n",
       "      <td>0</td>\n",
       "      <td>0</td>\n",
       "      <td>615.8</td>\n",
       "      <td>793.0</td>\n",
       "      <td>35.8</td>\n",
       "      <td>81.0</td>\n",
       "      <td>-81.0</td>\n",
       "      <td>291.93423</td>\n",
       "    </tr>\n",
       "    <tr>\n",
       "      <th>1</th>\n",
       "      <td>0</td>\n",
       "      <td>0</td>\n",
       "      <td>0</td>\n",
       "      <td>0</td>\n",
       "      <td>874.8</td>\n",
       "      <td>443.0</td>\n",
       "      <td>25.8</td>\n",
       "      <td>81.0</td>\n",
       "      <td>-81.0</td>\n",
       "      <td>291.93423</td>\n",
       "    </tr>\n",
       "    <tr>\n",
       "      <th>2</th>\n",
       "      <td>0</td>\n",
       "      <td>1</td>\n",
       "      <td>0</td>\n",
       "      <td>0</td>\n",
       "      <td>10829.0</td>\n",
       "      <td>638.0</td>\n",
       "      <td>76.3</td>\n",
       "      <td>158.0</td>\n",
       "      <td>-176.0</td>\n",
       "      <td>297.00482</td>\n",
       "    </tr>\n",
       "    <tr>\n",
       "      <th>3</th>\n",
       "      <td>0</td>\n",
       "      <td>1</td>\n",
       "      <td>0</td>\n",
       "      <td>0</td>\n",
       "      <td>8079.2</td>\n",
       "      <td>1395.0</td>\n",
       "      <td>505.6</td>\n",
       "      <td>157.0</td>\n",
       "      <td>-174.0</td>\n",
       "      <td>285.53461</td>\n",
       "    </tr>\n",
       "    <tr>\n",
       "      <th>4</th>\n",
       "      <td>0</td>\n",
       "      <td>0</td>\n",
       "      <td>0</td>\n",
       "      <td>0</td>\n",
       "      <td>603.3</td>\n",
       "      <td>1406.0</td>\n",
       "      <td>40.9</td>\n",
       "      <td>169.0</td>\n",
       "      <td>-211.0</td>\n",
       "      <td>288.75488</td>\n",
       "    </tr>\n",
       "  </tbody>\n",
       "</table>\n",
       "</div>"
      ],
      "text/plain": [
       "   koi_fpflag_nt  koi_fpflag_ss  koi_fpflag_co  koi_fpflag_ec  koi_depth  \\\n",
       "0              0              0              0              0      615.8   \n",
       "1              0              0              0              0      874.8   \n",
       "2              0              1              0              0    10829.0   \n",
       "3              0              1              0              0     8079.2   \n",
       "4              0              0              0              0      603.3   \n",
       "\n",
       "   koi_teq  koi_model_snr  koi_steff_err1  koi_steff_err2         ra  \n",
       "0    793.0           35.8            81.0           -81.0  291.93423  \n",
       "1    443.0           25.8            81.0           -81.0  291.93423  \n",
       "2    638.0           76.3           158.0          -176.0  297.00482  \n",
       "3   1395.0          505.6           157.0          -174.0  285.53461  \n",
       "4   1406.0           40.9           169.0          -211.0  288.75488  "
      ]
     },
     "execution_count": 26,
     "metadata": {},
     "output_type": "execute_result"
    }
   ],
   "source": [
    "X_l = clean_data[['koi_fpflag_nt','koi_fpflag_ss','koi_fpflag_co'\n",
    "                ,'koi_fpflag_ec','koi_depth','koi_teq','koi_model_snr','koi_steff_err1','koi_steff_err2','ra']]\n",
    "\n",
    "Y_l = clean_data['koi_score']\n",
    "X_l.head()"
   ]
  },
  {
   "cell_type": "code",
   "execution_count": 27,
   "metadata": {},
   "outputs": [],
   "source": [
    "X_train_l, X_test_l, Y_train_l, Y_test_l = train_test_split(X_l, Y_l, shuffle=True, train_size=0.8, random_state=42)"
   ]
  },
  {
   "cell_type": "code",
   "execution_count": 28,
   "metadata": {},
   "outputs": [
    {
     "data": {
      "text/plain": [
       "LinearRegression(copy_X=True, fit_intercept=True, n_jobs=None, normalize=True)"
      ]
     },
     "execution_count": 28,
     "metadata": {},
     "output_type": "execute_result"
    }
   ],
   "source": [
    "regr = linear_model.LinearRegression(normalize=True)\n",
    "regr.fit(X_train_l.values, Y_train_l)"
   ]
  },
  {
   "cell_type": "code",
   "execution_count": 29,
   "metadata": {},
   "outputs": [
    {
     "name": "stdout",
     "output_type": "stream",
     "text": [
      "0.736058279941984\n",
      "Score train : 0.7596\n",
      "Score test : 0.7361\n"
     ]
    }
   ],
   "source": [
    "print(regr.score(X_test_l,Y_test_l))\n",
    "print(\"Score train : {:1.4}\".format(r2_score(Y_train_l, regr.predict(X_train_l))))\n",
    "print(\"Score test : {:1.4}\".format(r2_score(Y_test_l, regr.predict(X_test_l))))"
   ]
  },
  {
   "cell_type": "code",
   "execution_count": 30,
   "metadata": {},
   "outputs": [
    {
     "name": "stdout",
     "output_type": "stream",
     "text": [
      "(1000, 1000)\n"
     ]
    },
    {
     "data": {
      "text/plain": [
       "<matplotlib.legend.Legend at 0x7f704df906a0>"
      ]
     },
     "execution_count": 30,
     "metadata": {},
     "output_type": "execute_result"
    },
    {
     "data": {
      "image/png": "[encoded data removed]",
      "text/plain": [
       "<Figure size 1152x720 with 1 Axes>"
      ]
     },
     "metadata": {
      "needs_background": "light"
     },
     "output_type": "display_data"
    }
   ],
   "source": [
    "import scipy\n",
    "\n",
    "X_res = clean_data.sample(n=1000)\n",
    "n, p = X_res.shape\n",
    "X_val = X_res[['koi_fpflag_nt','koi_fpflag_ss','koi_fpflag_co'\n",
    "                ,'koi_fpflag_ec','koi_depth','koi_teq','koi_model_snr','koi_steff_err1','koi_steff_err2','ra']].values\n",
    "y_val = X_res['koi_score']\n",
    "residuals = np.abs(y_val - regr.predict(X_val)).values\n",
    "H = np.matmul(X_val, np.linalg.solve(np.dot(X_val.T, X_val), X_val.T))\n",
    "std_hat = np.dot(residuals, residuals) / (n - p)\n",
    "standart_residuals = np.asarray([residuals[i] / np.sqrt(std_hat * (1 - H[i, i])) for i in range(len(residuals))])\n",
    "student_residuals = np.asarray([ standart_residuals[i] * np.sqrt((n - p - 1) / (n - p - standart_residuals[i]**2)) for i in range(n) ])\n",
    "print(H.shape)\n",
    "\n",
    "plt.figure(figsize=(16, 10))\n",
    "plt.scatter(y_val, student_residuals, s=12, c=\"blue\", edgecolors=\"blue\")\n",
    "plt.plot([min(y_val), max(y_val)], [ scipy.stats.t.ppf(q=0.975, df=n-p-1), scipy.stats.t.ppf(q=0.975, df=n-p-1)], color=\"blue\", alpha=0.6, label=\"Quantile de Student\")\n",
    "plt.title(\"Analyse de l’homoscédasticité\")\n",
    "plt.xlabel(\"Prédictions $\\hat{y}_i$\")\n",
    "plt.ylabel(\"Résidus studentisés $|t_i^*|$\")\n",
    "plt.legend()"
   ]
  },
  {
   "cell_type": "markdown",
   "metadata": {},
   "source": [
    "On remarque les la répartition des points suit une tendence pas evidente mais y'a une quand même."
   ]
  },
  {
   "cell_type": "markdown",
   "metadata": {},
   "source": [
    "## Classification multiclasses One vs Rest "
   ]
  },
  {
   "cell_type": "code",
   "execution_count": 31,
   "metadata": {},
   "outputs": [],
   "source": [
    "import numpy as np\n",
    "from sklearn.multiclass import OneVsRestClassifier\n",
    "from sklearn.svm import SVC"
   ]
  },
  {
   "cell_type": "code",
   "execution_count": 32,
   "metadata": {},
   "outputs": [],
   "source": [
    "X_oVr = clean_data[['koi_fpflag_nt','koi_fpflag_ss','koi_fpflag_co'\n",
    "                ,'koi_fpflag_ec','koi_depth','koi_teq','koi_model_snr','koi_steff_err1','koi_steff_err2','ra']]\n",
    "\n",
    "Y_oVr = clean_data['koi_disposition']"
   ]
  },
  {
   "cell_type": "code",
   "execution_count": 33,
   "metadata": {},
   "outputs": [],
   "source": [
    "X_train_oVr, X_test_oVr, Y_train_oVr, Y_test_oVr = train_test_split(X_oVr, Y_oVr, test_size=0.2)"
   ]
  },
  {
   "cell_type": "code",
   "execution_count": 34,
   "metadata": {},
   "outputs": [
    {
     "name": "stdout",
     "output_type": "stream",
     "text": [
      "['CANDIDATE' 'CONFIRMED' 'FALSE POSITIVE']\n",
      "[0 0 0 ... 2 2 2]\n",
      "[0 2 2 ... 0 1 2]\n"
     ]
    }
   ],
   "source": [
    "from sklearn.preprocessing import LabelEncoder\n",
    "\n",
    "labelencoder = LabelEncoder()\n",
    "Y_train_lb_oVr = labelencoder.fit_transform(Y_train_oVr) # On encode pour l'apprentissage\n",
    "Y_test_lb_oVr = labelencoder.transform(Y_test_oVr)\n",
    "print(labelencoder.classes_)\n",
    "print(Y_train_lb_oVr)\n",
    "print(Y_test_lb_oVr)"
   ]
  },
  {
   "cell_type": "code",
   "execution_count": 35,
   "metadata": {},
   "outputs": [
    {
     "data": {
      "text/plain": [
       "OneVsRestClassifier(estimator=SVC(C=1.0, break_ties=False, cache_size=200,\n",
       "                                  class_weight=None, coef0=0.0,\n",
       "                                  decision_function_shape='ovr', degree=3,\n",
       "                                  gamma='scale', kernel='rbf', max_iter=-1,\n",
       "                                  probability=False, random_state=None,\n",
       "                                  shrinking=True, tol=0.001, verbose=False),\n",
       "                    n_jobs=None)"
      ]
     },
     "execution_count": 35,
     "metadata": {},
     "output_type": "execute_result"
    }
   ],
   "source": [
    "clf = OneVsRestClassifier(SVC())\n",
    "clf.fit(X_train_oVr, Y_train_lb_oVr)"
   ]
  },
  {
   "cell_type": "code",
   "execution_count": 36,
   "metadata": {},
   "outputs": [],
   "source": [
    "from sklearn.metrics import classification_report, accuracy_score\n",
    "predicted_classes = clf.predict(X_test_oVr)"
   ]
  },
  {
   "cell_type": "code",
   "execution_count": 37,
   "metadata": {},
   "outputs": [
    {
     "name": "stdout",
     "output_type": "stream",
     "text": [
      "Accuracy (%):  48.51019341348667\n",
      "              precision    recall  f1-score   support\n",
      "\n",
      "           0       0.28      0.13      0.17       439\n",
      "           1       0.37      0.03      0.06       469\n",
      "           2       0.51      0.85      0.64      1005\n",
      "\n",
      "    accuracy                           0.49      1913\n",
      "   macro avg       0.39      0.34      0.29      1913\n",
      "weighted avg       0.42      0.49      0.39      1913\n",
      "\n"
     ]
    }
   ],
   "source": [
    "accuracy = accuracy_score(Y_test_lb_oVr,predicted_classes)\n",
    "\n",
    "print('Accuracy (%): ', accuracy * 100)\n",
    "\n",
    "print(classification_report(Y_test_lb_oVr,predicted_classes))"
   ]
  },
  {
   "cell_type": "markdown",
   "metadata": {},
   "source": [
    "## Random forest"
   ]
  },
  {
   "cell_type": "code",
   "execution_count": 38,
   "metadata": {},
   "outputs": [
    {
     "data": {
      "text/html": [
       "<div>\n",
       "<style scoped>\n",
       "    .dataframe tbody tr th:only-of-type {\n",
       "        vertical-align: middle;\n",
       "    }\n",
       "\n",
       "    .dataframe tbody tr th {\n",
       "        vertical-align: top;\n",
       "    }\n",
       "\n",
       "    .dataframe thead th {\n",
       "        text-align: right;\n",
       "    }\n",
       "</style>\n",
       "<table border=\"1\" class=\"dataframe\">\n",
       "  <thead>\n",
       "    <tr style=\"text-align: right;\">\n",
       "      <th></th>\n",
       "      <th>koi_fpflag_nt</th>\n",
       "      <th>koi_fpflag_ss</th>\n",
       "      <th>koi_fpflag_co</th>\n",
       "      <th>koi_fpflag_ec</th>\n",
       "      <th>koi_depth</th>\n",
       "      <th>koi_teq</th>\n",
       "      <th>koi_model_snr</th>\n",
       "      <th>koi_steff_err1</th>\n",
       "      <th>koi_steff_err2</th>\n",
       "      <th>ra</th>\n",
       "    </tr>\n",
       "  </thead>\n",
       "  <tbody>\n",
       "    <tr>\n",
       "      <th>0</th>\n",
       "      <td>0</td>\n",
       "      <td>0</td>\n",
       "      <td>0</td>\n",
       "      <td>0</td>\n",
       "      <td>615.8</td>\n",
       "      <td>793.0</td>\n",
       "      <td>35.8</td>\n",
       "      <td>81.0</td>\n",
       "      <td>-81.0</td>\n",
       "      <td>291.93423</td>\n",
       "    </tr>\n",
       "    <tr>\n",
       "      <th>1</th>\n",
       "      <td>0</td>\n",
       "      <td>0</td>\n",
       "      <td>0</td>\n",
       "      <td>0</td>\n",
       "      <td>874.8</td>\n",
       "      <td>443.0</td>\n",
       "      <td>25.8</td>\n",
       "      <td>81.0</td>\n",
       "      <td>-81.0</td>\n",
       "      <td>291.93423</td>\n",
       "    </tr>\n",
       "    <tr>\n",
       "      <th>2</th>\n",
       "      <td>0</td>\n",
       "      <td>1</td>\n",
       "      <td>0</td>\n",
       "      <td>0</td>\n",
       "      <td>10829.0</td>\n",
       "      <td>638.0</td>\n",
       "      <td>76.3</td>\n",
       "      <td>158.0</td>\n",
       "      <td>-176.0</td>\n",
       "      <td>297.00482</td>\n",
       "    </tr>\n",
       "    <tr>\n",
       "      <th>3</th>\n",
       "      <td>0</td>\n",
       "      <td>1</td>\n",
       "      <td>0</td>\n",
       "      <td>0</td>\n",
       "      <td>8079.2</td>\n",
       "      <td>1395.0</td>\n",
       "      <td>505.6</td>\n",
       "      <td>157.0</td>\n",
       "      <td>-174.0</td>\n",
       "      <td>285.53461</td>\n",
       "    </tr>\n",
       "    <tr>\n",
       "      <th>4</th>\n",
       "      <td>0</td>\n",
       "      <td>0</td>\n",
       "      <td>0</td>\n",
       "      <td>0</td>\n",
       "      <td>603.3</td>\n",
       "      <td>1406.0</td>\n",
       "      <td>40.9</td>\n",
       "      <td>169.0</td>\n",
       "      <td>-211.0</td>\n",
       "      <td>288.75488</td>\n",
       "    </tr>\n",
       "  </tbody>\n",
       "</table>\n",
       "</div>"
      ],
      "text/plain": [
       "   koi_fpflag_nt  koi_fpflag_ss  koi_fpflag_co  koi_fpflag_ec  koi_depth  \\\n",
       "0              0              0              0              0      615.8   \n",
       "1              0              0              0              0      874.8   \n",
       "2              0              1              0              0    10829.0   \n",
       "3              0              1              0              0     8079.2   \n",
       "4              0              0              0              0      603.3   \n",
       "\n",
       "   koi_teq  koi_model_snr  koi_steff_err1  koi_steff_err2         ra  \n",
       "0    793.0           35.8            81.0           -81.0  291.93423  \n",
       "1    443.0           25.8            81.0           -81.0  291.93423  \n",
       "2    638.0           76.3           158.0          -176.0  297.00482  \n",
       "3   1395.0          505.6           157.0          -174.0  285.53461  \n",
       "4   1406.0           40.9           169.0          -211.0  288.75488  "
      ]
     },
     "execution_count": 38,
     "metadata": {},
     "output_type": "execute_result"
    }
   ],
   "source": [
    "X = clean_data[['koi_fpflag_nt','koi_fpflag_ss','koi_fpflag_co'\n",
    "                ,'koi_fpflag_ec','koi_depth','koi_teq','koi_model_snr','koi_steff_err1','koi_steff_err2','ra']]\n",
    "\n",
    "Y = clean_data['koi_disposition']\n",
    "X.head()"
   ]
  },
  {
   "cell_type": "code",
   "execution_count": 39,
   "metadata": {},
   "outputs": [],
   "source": [
    "from sklearn.model_selection import train_test_split\n",
    "from sklearn.preprocessing import LabelEncoder"
   ]
  },
  {
   "cell_type": "code",
   "execution_count": 40,
   "metadata": {},
   "outputs": [],
   "source": [
    "X_train, X_test, Y_train, Y_test = train_test_split(X, Y, test_size=0.2)"
   ]
  },
  {
   "cell_type": "code",
   "execution_count": 41,
   "metadata": {},
   "outputs": [
    {
     "name": "stdout",
     "output_type": "stream",
     "text": [
      "['CANDIDATE' 'CONFIRMED' 'FALSE POSITIVE']\n"
     ]
    }
   ],
   "source": [
    "labelencoder = LabelEncoder()\n",
    "Y_train_lb = labelencoder.fit_transform(Y_train) # On encode pour l'apprentissage\n",
    "Y_test_lb = labelencoder.transform(Y_test)\n",
    "print(labelencoder.classes_)"
   ]
  },
  {
   "cell_type": "code",
   "execution_count": 42,
   "metadata": {},
   "outputs": [
    {
     "data": {
      "text/plain": [
       "RandomForestClassifier(bootstrap=True, ccp_alpha=0.0, class_weight=None,\n",
       "                       criterion='gini', max_depth=10, max_features='auto',\n",
       "                       max_leaf_nodes=None, max_samples=None,\n",
       "                       min_impurity_decrease=0.0, min_impurity_split=None,\n",
       "                       min_samples_leaf=1, min_samples_split=2,\n",
       "                       min_weight_fraction_leaf=0.0, n_estimators=100,\n",
       "                       n_jobs=None, oob_score=False, random_state=42, verbose=0,\n",
       "                       warm_start=False)"
      ]
     },
     "execution_count": 42,
     "metadata": {},
     "output_type": "execute_result"
    }
   ],
   "source": [
    "from sklearn.ensemble import RandomForestClassifier\n",
    "\n",
    "classifier = RandomForestClassifier(n_estimators=100, max_depth=10, random_state=42)\n",
    "classifier.fit(X_train, Y_train)"
   ]
  },
  {
   "cell_type": "code",
   "execution_count": 43,
   "metadata": {},
   "outputs": [
    {
     "name": "stdout",
     "output_type": "stream",
     "text": [
      "Accuracy (%):  89.33612127548353\n",
      "                precision    recall  f1-score   support\n",
      "\n",
      "     CANDIDATE       0.82      0.71      0.76       455\n",
      "     CONFIRMED       0.76      0.86      0.81       461\n",
      "FALSE POSITIVE       0.99      0.99      0.99       997\n",
      "\n",
      "      accuracy                           0.89      1913\n",
      "     macro avg       0.86      0.85      0.85      1913\n",
      "  weighted avg       0.90      0.89      0.89      1913\n",
      "\n"
     ]
    }
   ],
   "source": [
    "from sklearn.metrics import classification_report, accuracy_score\n",
    "\n",
    "predicted_classes = classifier.predict(X_test)\n",
    "accuracy = accuracy_score(Y_test,predicted_classes)\n",
    "#accuracy = accuracy_score(Y_test.flatten(),predicted_classes)\n",
    "\n",
    "print('Accuracy (%): ', accuracy * 100)\n",
    "\n",
    "print(classification_report(Y_test,predicted_classes))"
   ]
  },
  {
   "cell_type": "code",
   "execution_count": 44,
   "metadata": {
    "scrolled": true
   },
   "outputs": [
    {
     "data": {
      "image/png": "[encoded data removed]",
      "text/plain": [
       "<Figure size 432x288 with 1 Axes>"
      ]
     },
     "metadata": {
      "needs_background": "light"
     },
     "output_type": "display_data"
    }
   ],
   "source": [
    "rank = classifier.feature_importances_\n",
    "std = np.std([tree.feature_importances_ for tree in classifier.estimators_], axis=0) # On mesure la variance des caracs\n",
    "idx = np.argsort(rank)[::-1] # On les ordonne\n",
    "\n",
    "plt.figure()\n",
    "plt.title(\"Carac importances\")\n",
    "plt.bar(range(X_train.shape[1]), rank[idx],\n",
    "       color=\"b\", yerr=std[idx], align=\"center\")\n",
    "plt.xticks(range(X_train.shape[1]), idx)\n",
    "plt.xlim([-1, X_train.shape[1]])\n",
    "plt.show()"
   ]
  },
  {
   "cell_type": "markdown",
   "metadata": {},
   "source": [
    "### Cross Validation\n"
   ]
  },
  {
   "cell_type": "code",
   "execution_count": 45,
   "metadata": {},
   "outputs": [
    {
     "name": "stdout",
     "output_type": "stream",
     "text": [
      "train -  [30  3]   |   test -  [15  2]\n",
      "train -  [30  3]   |   test -  [15  2]\n",
      "train -  [30  4]   |   test -  [15  1]\n",
      "train -  [28  5]   |   test -  [17]\n",
      "train -  [28  5]   |   test -  [17]\n",
      "train -  [34]   |   test -  [11  5]\n"
     ]
    }
   ],
   "source": [
    "from sklearn.model_selection import StratifiedKFold, KFold\n",
    "\n",
    "X, y = np.ones((50, 1)), np.hstack(([0] * 45, [1] * 5))\n",
    "skf = StratifiedKFold(n_splits=3)\n",
    "for train, test in skf.split(X, y):\n",
    "    print('train -  {}   |   test -  {}'.format(\n",
    "    np.bincount(y[train]), np.bincount(y[test])))\n",
    "\n",
    "kf = KFold(n_splits=3)\n",
    "for train, test in kf.split(X, y):\n",
    "    print('train -  {}   |   test -  {}'.format(\n",
    "    np.bincount(y[train]), np.bincount(y[test])))\n"
   ]
  },
  {
   "cell_type": "markdown",
   "metadata": {},
   "source": [
    "###  Ouverture sur d'autres tests\n",
    "\n",
    "#### Suppression de certaines lignes\n",
    "Test RandomForestClassier aprés avoir enlevé les fignes \"CANDIDATE\", le resultat est assez logique car la difficulté de la classification réside entre le passage de CANDIDATE à CONFIRMED."
   ]
  },
  {
   "cell_type": "code",
   "execution_count": 47,
   "metadata": {},
   "outputs": [
    {
     "name": "stdout",
     "output_type": "stream",
     "text": [
      "['CONFIRMED' 'FALSE POSITIVE']\n",
      "Accuracy (%):  99.31693989071039\n",
      "              precision    recall  f1-score   support\n",
      "\n",
      "           0       0.99      0.99      0.99       450\n",
      "           1       1.00      1.00      1.00      1014\n",
      "\n",
      "    accuracy                           0.99      1464\n",
      "   macro avg       0.99      0.99      0.99      1464\n",
      "weighted avg       0.99      0.99      0.99      1464\n",
      "\n"
     ]
    }
   ],
   "source": [
    "X_c = c_data[['koi_fpflag_nt','koi_fpflag_ss','koi_fpflag_co'\n",
    "                ,'koi_fpflag_ec','koi_depth','koi_teq','koi_model_snr','koi_steff_err1','koi_steff_err2','ra']]\n",
    "\n",
    "Y_c = c_data['koi_disposition']\n",
    "\n",
    "X_train_c, X_test_c, Y_train_c, Y_test_c = train_test_split(X_c, Y_c, test_size=0.2)\n",
    "labelencoder = LabelEncoder()\n",
    "Y_train_lb_c = labelencoder.fit_transform(Y_train_c) # On encode pour l'apprentissage\n",
    "Y_test_lb_c = labelencoder.transform(Y_test_c)\n",
    "print(labelencoder.classes_)\n",
    "classifier = RandomForestClassifier(n_estimators=100, max_depth=10, random_state=42)\n",
    "classifier.fit(X_train_c, Y_train_lb_c)\n",
    "\n",
    "predicted_classes_c = classifier.predict(X_test_c)\n",
    "accuracy = accuracy_score(Y_test_lb_c,predicted_classes_c)\n",
    "#accuracy = accuracy_score(Y_test.flatten(),predicted_classes)\n",
    "\n",
    "print('Accuracy (%): ', accuracy * 100)\n",
    "\n",
    "print(classification_report(Y_test_lb_c,predicted_classes_c))"
   ]
  },
  {
   "cell_type": "markdown",
   "metadata": {},
   "source": [
    "###  Classification multi-classe "
   ]
  },
  {
   "cell_type": "code",
   "execution_count": 48,
   "metadata": {},
   "outputs": [
    {
     "data": {
      "text/plain": [
       "LogisticRegression(C=1.0, class_weight=None, dual=False, fit_intercept=True,\n",
       "                   intercept_scaling=1, l1_ratio=None, max_iter=100,\n",
       "                   multi_class='auto', n_jobs=None, penalty='l2',\n",
       "                   random_state=None, solver='lbfgs', tol=0.0001, verbose=0,\n",
       "                   warm_start=False)"
      ]
     },
     "execution_count": 48,
     "metadata": {},
     "output_type": "execute_result"
    }
   ],
   "source": [
    "from sklearn.linear_model import LogisticRegression\n",
    "\n",
    "X_train_lr, X_test_lr, Y_train_lr, Y_test_lr = train_test_split(X_oVr, Y_oVr)\n",
    "Y_train_lb_lr = labelencoder.fit_transform(Y_train_lr) # On encode pour l'apprentissage\n",
    "Y_test_lb_lr = labelencoder.transform(Y_test_lr)\n",
    "model = LogisticRegression()\n",
    "model.fit(X_train_lr, Y_train_lb_lr)"
   ]
  },
  {
   "cell_type": "code",
   "execution_count": 49,
   "metadata": {},
   "outputs": [],
   "source": [
    "predicted_classes = model.predict(X_test_lr)"
   ]
  },
  {
   "cell_type": "code",
   "execution_count": 50,
   "metadata": {},
   "outputs": [
    {
     "name": "stdout",
     "output_type": "stream",
     "text": [
      "Accuracy (%):  61.14596403178586\n",
      "              precision    recall  f1-score   support\n",
      "\n",
      "           0       0.36      0.05      0.08       575\n",
      "           1       0.53      0.58      0.55       561\n",
      "           2       0.65      0.89      0.75      1255\n",
      "\n",
      "    accuracy                           0.61      2391\n",
      "   macro avg       0.51      0.50      0.46      2391\n",
      "weighted avg       0.55      0.61      0.54      2391\n",
      "\n"
     ]
    }
   ],
   "source": [
    "accuracy = accuracy_score(Y_test_lb_lr,predicted_classes)\n",
    "\n",
    "print('Accuracy (%): ', accuracy * 100)\n",
    "\n",
    "print(classification_report(Y_test_lb_lr,predicted_classes))"
   ]
  }
 ],
 "metadata": {
  "kernelspec": {
   "display_name": "Python 3",
   "language": "python",
   "name": "python3"
  },
  "language_info": {
   "codemirror_mode": {
    "name": "ipython",
    "version": 3
   },
   "file_extension": ".py",
   "mimetype": "text/x-python",
   "name": "python",
   "nbconvert_exporter": "python",
   "pygments_lexer": "ipython3",
   "version": "3.7.3"
  }
 },
 "nbformat": 4,
 "nbformat_minor": 2
}
